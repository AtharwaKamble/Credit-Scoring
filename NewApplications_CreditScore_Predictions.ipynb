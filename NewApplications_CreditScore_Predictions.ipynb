{
 "cells": [
  {
   "cell_type": "markdown",
   "metadata": {
    "id": "v6M3JjqF23xB"
   },
   "source": [
    "**In this Credit Score Prediction file, we shall use our Credit Scoring model** that we exported to our project folder (f1_classifier) - in previous code file - **to predict Credit Scores for New Loan Applications file (e_NewApplications)**."
   ]
  },
  {
   "cell_type": "markdown",
   "metadata": {
    "id": "tLLLopyLmOxU"
   },
   "source": [
    "### Importing libraries & functions\n",
    "\n",
    "\n",
    "\n"
   ]
  },
  {
   "cell_type": "code",
   "execution_count": 1,
   "metadata": {
    "executionInfo": {
     "elapsed": 500,
     "status": "ok",
     "timestamp": 1638208772038,
     "user": {
      "displayName": "SKILLCATE",
      "photoUrl": "https://lh3.googleusercontent.com/a-/AOh14GhT5e7MnDmh2dcfNhKDOV8oRoeRJVinedzmD2Su=s64",
      "userId": "11062674699417926870"
     },
     "user_tz": -330
    },
    "id": "Z0zpJk7CmHiH"
   },
   "outputs": [],
   "source": [
    "import pandas as pd\n",
    "import numpy as np\n",
    "\n",
    "from sklearn.model_selection import train_test_split\n",
    "from sklearn.preprocessing import StandardScaler\n",
    "from sklearn.metrics import classification_report, confusion_matrix, accuracy_score\n",
    "from sklearn.linear_model import LogisticRegression"
   ]
  },
  {
   "cell_type": "markdown",
   "metadata": {
    "id": "d3KLBB_ajJPf"
   },
   "source": [
    "### Importing dataset"
   ]
  },
  {
   "cell_type": "code",
   "execution_count": 2,
   "metadata": {
    "colab": {
     "base_uri": "https://localhost:8080/"
    },
    "executionInfo": {
     "elapsed": 14,
     "status": "ok",
     "timestamp": 1638208772551,
     "user": {
      "displayName": "SKILLCATE",
      "photoUrl": "https://lh3.googleusercontent.com/a-/AOh14GhT5e7MnDmh2dcfNhKDOV8oRoeRJVinedzmD2Su=s64",
      "userId": "11062674699417926870"
     },
     "user_tz": -330
    },
    "id": "a5BrHGMEjyL5",
    "outputId": "fa360d4a-377d-46d9-9fc3-0391e89bcc30"
   },
   "outputs": [],
   "source": [
    "# %cd /content/drive/MyDrive/Project1_Credit_Scoring\n",
    "# !pwd"
   ]
  },
  {
   "cell_type": "code",
   "execution_count": 3,
   "metadata": {
    "executionInfo": {
     "elapsed": 11,
     "status": "ok",
     "timestamp": 1638208772551,
     "user": {
      "displayName": "SKILLCATE",
      "photoUrl": "https://lh3.googleusercontent.com/a-/AOh14GhT5e7MnDmh2dcfNhKDOV8oRoeRJVinedzmD2Su=s64",
      "userId": "11062674699417926870"
     },
     "user_tz": -330
    },
    "id": "xXULP25MrAWX"
   },
   "outputs": [],
   "source": [
    "dataset=pd.read_excel(\"NewApplications_CreditScore_Needed.xlsx\")\n"
   ]
  },
  {
   "cell_type": "markdown",
   "metadata": {
    "id": "BKEq_6x1mYTL"
   },
   "source": [
    "### Data preparation"
   ]
  },
  {
   "cell_type": "code",
   "execution_count": 4,
   "metadata": {
    "colab": {
     "base_uri": "https://localhost:8080/"
    },
    "executionInfo": {
     "elapsed": 11,
     "status": "ok",
     "timestamp": 1638208772551,
     "user": {
      "displayName": "SKILLCATE",
      "photoUrl": "https://lh3.googleusercontent.com/a-/AOh14GhT5e7MnDmh2dcfNhKDOV8oRoeRJVinedzmD2Su=s64",
      "userId": "11062674699417926870"
     },
     "user_tz": -330
    },
    "id": "9V3vK-KsjeEY",
    "outputId": "7615c015-e6b2-4d35-929d-aaf425e8db5b"
   },
   "outputs": [
    {
     "data": {
      "text/plain": [
       "(30, 29)"
      ]
     },
     "execution_count": 4,
     "metadata": {},
     "output_type": "execute_result"
    }
   ],
   "source": [
    "# shows count of rows and columns\n",
    "dataset.shape"
   ]
  },
  {
   "cell_type": "code",
   "execution_count": 5,
   "metadata": {
    "colab": {
     "base_uri": "https://localhost:8080/",
     "height": 226
    },
    "executionInfo": {
     "elapsed": 9,
     "status": "ok",
     "timestamp": 1638208772552,
     "user": {
      "displayName": "SKILLCATE",
      "photoUrl": "https://lh3.googleusercontent.com/a-/AOh14GhT5e7MnDmh2dcfNhKDOV8oRoeRJVinedzmD2Su=s64",
      "userId": "11062674699417926870"
     },
     "user_tz": -330
    },
    "id": "82u-muk25Ahf",
    "outputId": "eaaac4af-29a7-4ab1-ac2a-b7f1ec2d6fe0"
   },
   "outputs": [
    {
     "data": {
      "text/html": [
       "<div>\n",
       "<style scoped>\n",
       "    .dataframe tbody tr th:only-of-type {\n",
       "        vertical-align: middle;\n",
       "    }\n",
       "\n",
       "    .dataframe tbody tr th {\n",
       "        vertical-align: top;\n",
       "    }\n",
       "\n",
       "    .dataframe thead th {\n",
       "        text-align: right;\n",
       "    }\n",
       "</style>\n",
       "<table border=\"1\" class=\"dataframe\">\n",
       "  <thead>\n",
       "    <tr style=\"text-align: right;\">\n",
       "      <th></th>\n",
       "      <th>ID</th>\n",
       "      <th>DerogCnt</th>\n",
       "      <th>CollectCnt</th>\n",
       "      <th>BanruptcyInd</th>\n",
       "      <th>InqCnt06</th>\n",
       "      <th>InqTimeLast</th>\n",
       "      <th>InqFinanceCnt24</th>\n",
       "      <th>TLTimeFirst</th>\n",
       "      <th>TLTimeLast</th>\n",
       "      <th>TLCnt03</th>\n",
       "      <th>...</th>\n",
       "      <th>TL50UtilCnt</th>\n",
       "      <th>TLBalHCPct</th>\n",
       "      <th>TLSatPct</th>\n",
       "      <th>TLDel3060Cnt24</th>\n",
       "      <th>TLDel90Cnt24</th>\n",
       "      <th>TLDel60CntAll</th>\n",
       "      <th>TLOpenPct</th>\n",
       "      <th>TLBadDerogCnt</th>\n",
       "      <th>TLDel60Cnt24</th>\n",
       "      <th>TLOpen24Pct</th>\n",
       "    </tr>\n",
       "  </thead>\n",
       "  <tbody>\n",
       "    <tr>\n",
       "      <th>0</th>\n",
       "      <td>7140</td>\n",
       "      <td>3.0</td>\n",
       "      <td>2.0</td>\n",
       "      <td>0.0</td>\n",
       "      <td>0.0</td>\n",
       "      <td>11.0</td>\n",
       "      <td>0.0</td>\n",
       "      <td>90.0</td>\n",
       "      <td>9.0</td>\n",
       "      <td>0.0</td>\n",
       "      <td>...</td>\n",
       "      <td>2.0</td>\n",
       "      <td>0.8645</td>\n",
       "      <td>0.1667</td>\n",
       "      <td>2.0</td>\n",
       "      <td>2.0</td>\n",
       "      <td>4.0</td>\n",
       "      <td>0.2500</td>\n",
       "      <td>3.0</td>\n",
       "      <td>3.0</td>\n",
       "      <td>1.0000</td>\n",
       "    </tr>\n",
       "    <tr>\n",
       "      <th>1</th>\n",
       "      <td>7163</td>\n",
       "      <td>4.0</td>\n",
       "      <td>2.0</td>\n",
       "      <td>1.0</td>\n",
       "      <td>3.0</td>\n",
       "      <td>3.0</td>\n",
       "      <td>2.0</td>\n",
       "      <td>221.0</td>\n",
       "      <td>3.0</td>\n",
       "      <td>1.0</td>\n",
       "      <td>...</td>\n",
       "      <td>2.0</td>\n",
       "      <td>0.6774</td>\n",
       "      <td>0.3333</td>\n",
       "      <td>0.0</td>\n",
       "      <td>2.0</td>\n",
       "      <td>5.0</td>\n",
       "      <td>0.2000</td>\n",
       "      <td>3.0</td>\n",
       "      <td>2.0</td>\n",
       "      <td>0.3333</td>\n",
       "    </tr>\n",
       "    <tr>\n",
       "      <th>2</th>\n",
       "      <td>122900</td>\n",
       "      <td>0.0</td>\n",
       "      <td>0.0</td>\n",
       "      <td>0.0</td>\n",
       "      <td>11.0</td>\n",
       "      <td>1.0</td>\n",
       "      <td>13.0</td>\n",
       "      <td>152.0</td>\n",
       "      <td>2.0</td>\n",
       "      <td>2.0</td>\n",
       "      <td>...</td>\n",
       "      <td>5.0</td>\n",
       "      <td>0.8371</td>\n",
       "      <td>0.5758</td>\n",
       "      <td>1.0</td>\n",
       "      <td>0.0</td>\n",
       "      <td>0.0</td>\n",
       "      <td>0.2121</td>\n",
       "      <td>0.0</td>\n",
       "      <td>0.0</td>\n",
       "      <td>1.8571</td>\n",
       "    </tr>\n",
       "    <tr>\n",
       "      <th>3</th>\n",
       "      <td>7226</td>\n",
       "      <td>1.0</td>\n",
       "      <td>1.0</td>\n",
       "      <td>0.0</td>\n",
       "      <td>2.0</td>\n",
       "      <td>1.0</td>\n",
       "      <td>4.0</td>\n",
       "      <td>206.0</td>\n",
       "      <td>21.0</td>\n",
       "      <td>0.0</td>\n",
       "      <td>...</td>\n",
       "      <td>NaN</td>\n",
       "      <td>0.0000</td>\n",
       "      <td>0.2500</td>\n",
       "      <td>0.0</td>\n",
       "      <td>0.0</td>\n",
       "      <td>3.0</td>\n",
       "      <td>0.1250</td>\n",
       "      <td>1.0</td>\n",
       "      <td>0.0</td>\n",
       "      <td>1.0000</td>\n",
       "    </tr>\n",
       "    <tr>\n",
       "      <th>4</th>\n",
       "      <td>7251</td>\n",
       "      <td>1.0</td>\n",
       "      <td>1.0</td>\n",
       "      <td>0.0</td>\n",
       "      <td>4.0</td>\n",
       "      <td>1.0</td>\n",
       "      <td>5.0</td>\n",
       "      <td>152.0</td>\n",
       "      <td>11.0</td>\n",
       "      <td>0.0</td>\n",
       "      <td>...</td>\n",
       "      <td>2.0</td>\n",
       "      <td>0.8892</td>\n",
       "      <td>0.2500</td>\n",
       "      <td>2.0</td>\n",
       "      <td>1.0</td>\n",
       "      <td>2.0</td>\n",
       "      <td>0.7500</td>\n",
       "      <td>1.0</td>\n",
       "      <td>2.0</td>\n",
       "      <td>0.3333</td>\n",
       "    </tr>\n",
       "  </tbody>\n",
       "</table>\n",
       "<p>5 rows × 29 columns</p>\n",
       "</div>"
      ],
      "text/plain": [
       "       ID  DerogCnt  CollectCnt  BanruptcyInd  InqCnt06  InqTimeLast  \\\n",
       "0    7140       3.0         2.0           0.0       0.0         11.0   \n",
       "1    7163       4.0         2.0           1.0       3.0          3.0   \n",
       "2  122900       0.0         0.0           0.0      11.0          1.0   \n",
       "3    7226       1.0         1.0           0.0       2.0          1.0   \n",
       "4    7251       1.0         1.0           0.0       4.0          1.0   \n",
       "\n",
       "   InqFinanceCnt24  TLTimeFirst  TLTimeLast  TLCnt03  ...  TL50UtilCnt  \\\n",
       "0              0.0         90.0         9.0      0.0  ...          2.0   \n",
       "1              2.0        221.0         3.0      1.0  ...          2.0   \n",
       "2             13.0        152.0         2.0      2.0  ...          5.0   \n",
       "3              4.0        206.0        21.0      0.0  ...          NaN   \n",
       "4              5.0        152.0        11.0      0.0  ...          2.0   \n",
       "\n",
       "   TLBalHCPct  TLSatPct  TLDel3060Cnt24  TLDel90Cnt24  TLDel60CntAll  \\\n",
       "0      0.8645    0.1667             2.0           2.0            4.0   \n",
       "1      0.6774    0.3333             0.0           2.0            5.0   \n",
       "2      0.8371    0.5758             1.0           0.0            0.0   \n",
       "3      0.0000    0.2500             0.0           0.0            3.0   \n",
       "4      0.8892    0.2500             2.0           1.0            2.0   \n",
       "\n",
       "   TLOpenPct  TLBadDerogCnt  TLDel60Cnt24  TLOpen24Pct  \n",
       "0     0.2500            3.0           3.0       1.0000  \n",
       "1     0.2000            3.0           2.0       0.3333  \n",
       "2     0.2121            0.0           0.0       1.8571  \n",
       "3     0.1250            1.0           0.0       1.0000  \n",
       "4     0.7500            1.0           2.0       0.3333  \n",
       "\n",
       "[5 rows x 29 columns]"
      ]
     },
     "execution_count": 5,
     "metadata": {},
     "output_type": "execute_result"
    }
   ],
   "source": [
    "#shows first few rows of the code\n",
    "dataset.head()"
   ]
  },
  {
   "cell_type": "code",
   "execution_count": 6,
   "metadata": {
    "colab": {
     "base_uri": "https://localhost:8080/"
    },
    "executionInfo": {
     "elapsed": 8,
     "status": "ok",
     "timestamp": 1638208772552,
     "user": {
      "displayName": "SKILLCATE",
      "photoUrl": "https://lh3.googleusercontent.com/a-/AOh14GhT5e7MnDmh2dcfNhKDOV8oRoeRJVinedzmD2Su=s64",
      "userId": "11062674699417926870"
     },
     "user_tz": -330
    },
    "id": "kOEVc6QXmuib",
    "outputId": "b7b668f5-8987-4e22-9b33-a8f5fc5aeaa2"
   },
   "outputs": [
    {
     "data": {
      "text/plain": [
       "(30, 28)"
      ]
     },
     "execution_count": 6,
     "metadata": {},
     "output_type": "execute_result"
    }
   ],
   "source": [
    "#dropping customer ID column from the dataset\n",
    "dataset=dataset.drop('ID',axis=1)\n",
    "dataset.shape"
   ]
  },
  {
   "cell_type": "code",
   "execution_count": 7,
   "metadata": {
    "colab": {
     "base_uri": "https://localhost:8080/"
    },
    "executionInfo": {
     "elapsed": 6,
     "status": "ok",
     "timestamp": 1638208772552,
     "user": {
      "displayName": "SKILLCATE",
      "photoUrl": "https://lh3.googleusercontent.com/a-/AOh14GhT5e7MnDmh2dcfNhKDOV8oRoeRJVinedzmD2Su=s64",
      "userId": "11062674699417926870"
     },
     "user_tz": -330
    },
    "id": "BWa-g8lXpUVX",
    "outputId": "6adddfcc-2442-49dc-8fed-4d91996699af"
   },
   "outputs": [
    {
     "data": {
      "text/plain": [
       "DerogCnt           0\n",
       "CollectCnt         0\n",
       "BanruptcyInd       0\n",
       "InqCnt06           0\n",
       "InqTimeLast        3\n",
       "InqFinanceCnt24    0\n",
       "TLTimeFirst        0\n",
       "TLTimeLast         0\n",
       "TLCnt03            0\n",
       "TLCnt12            0\n",
       "TLCnt24            0\n",
       "TLCnt              0\n",
       "TLSum              0\n",
       "TLMaxSum           0\n",
       "TLSatCnt           0\n",
       "TLDel60Cnt         0\n",
       "TLBadCnt24         0\n",
       "TL75UtilCnt        1\n",
       "TL50UtilCnt        1\n",
       "TLBalHCPct         0\n",
       "TLSatPct           0\n",
       "TLDel3060Cnt24     0\n",
       "TLDel90Cnt24       0\n",
       "TLDel60CntAll      0\n",
       "TLOpenPct          0\n",
       "TLBadDerogCnt      0\n",
       "TLDel60Cnt24       0\n",
       "TLOpen24Pct        0\n",
       "dtype: int64"
      ]
     },
     "execution_count": 7,
     "metadata": {},
     "output_type": "execute_result"
    }
   ],
   "source": [
    "# explore missing values\n",
    "dataset.isnull().sum()"
   ]
  },
  {
   "cell_type": "code",
   "execution_count": 8,
   "metadata": {
    "executionInfo": {
     "elapsed": 637,
     "status": "ok",
     "timestamp": 1638208773184,
     "user": {
      "displayName": "SKILLCATE",
      "photoUrl": "https://lh3.googleusercontent.com/a-/AOh14GhT5e7MnDmh2dcfNhKDOV8oRoeRJVinedzmD2Su=s64",
      "userId": "11062674699417926870"
     },
     "user_tz": -330
    },
    "id": "iwg__6smjkb4"
   },
   "outputs": [],
   "source": [
    "# filling missing values with mean\n",
    "dataset=dataset.fillna(dataset.mean())"
   ]
  },
  {
   "cell_type": "code",
   "execution_count": 9,
   "metadata": {
    "colab": {
     "base_uri": "https://localhost:8080/"
    },
    "executionInfo": {
     "elapsed": 18,
     "status": "ok",
     "timestamp": 1638208773185,
     "user": {
      "displayName": "SKILLCATE",
      "photoUrl": "https://lh3.googleusercontent.com/a-/AOh14GhT5e7MnDmh2dcfNhKDOV8oRoeRJVinedzmD2Su=s64",
      "userId": "11062674699417926870"
     },
     "user_tz": -330
    },
    "id": "Js3lP_KAm5-q",
    "outputId": "b7993a37-3099-49a6-f870-1597850cee3e"
   },
   "outputs": [
    {
     "data": {
      "text/plain": [
       "DerogCnt           0\n",
       "CollectCnt         0\n",
       "BanruptcyInd       0\n",
       "InqCnt06           0\n",
       "InqTimeLast        0\n",
       "InqFinanceCnt24    0\n",
       "TLTimeFirst        0\n",
       "TLTimeLast         0\n",
       "TLCnt03            0\n",
       "TLCnt12            0\n",
       "TLCnt24            0\n",
       "TLCnt              0\n",
       "TLSum              0\n",
       "TLMaxSum           0\n",
       "TLSatCnt           0\n",
       "TLDel60Cnt         0\n",
       "TLBadCnt24         0\n",
       "TL75UtilCnt        0\n",
       "TL50UtilCnt        0\n",
       "TLBalHCPct         0\n",
       "TLSatPct           0\n",
       "TLDel3060Cnt24     0\n",
       "TLDel90Cnt24       0\n",
       "TLDel60CntAll      0\n",
       "TLOpenPct          0\n",
       "TLBadDerogCnt      0\n",
       "TLDel60Cnt24       0\n",
       "TLOpen24Pct        0\n",
       "dtype: int64"
      ]
     },
     "execution_count": 9,
     "metadata": {},
     "output_type": "execute_result"
    }
   ],
   "source": [
    "# explore missing values post missing value fix\n",
    "dataset.isnull().sum()"
   ]
  },
  {
   "cell_type": "markdown",
   "metadata": {
    "id": "3Ib6drIfoGym"
   },
   "source": [
    "### Train Test Split"
   ]
  },
  {
   "cell_type": "code",
   "execution_count": 10,
   "metadata": {
    "executionInfo": {
     "elapsed": 13,
     "status": "ok",
     "timestamp": 1638208773185,
     "user": {
      "displayName": "SKILLCATE",
      "photoUrl": "https://lh3.googleusercontent.com/a-/AOh14GhT5e7MnDmh2dcfNhKDOV8oRoeRJVinedzmD2Su=s64",
      "userId": "11062674699417926870"
     },
     "user_tz": -330
    },
    "id": "X9Fdr5ktkr5O"
   },
   "outputs": [],
   "source": [
    "X_fresh = dataset"
   ]
  },
  {
   "cell_type": "code",
   "execution_count": 11,
   "metadata": {
    "executionInfo": {
     "elapsed": 11,
     "status": "ok",
     "timestamp": 1638208773185,
     "user": {
      "displayName": "SKILLCATE",
      "photoUrl": "https://lh3.googleusercontent.com/a-/AOh14GhT5e7MnDmh2dcfNhKDOV8oRoeRJVinedzmD2Su=s64",
      "userId": "11062674699417926870"
     },
     "user_tz": -330
    },
    "id": "Si3h_hjpvWW8"
   },
   "outputs": [],
   "source": [
    "# Loading normalisation coefficients - exported from the model code file as f2_Normalisation \n",
    "\n",
    "import joblib\n",
    "\n",
    "sc = joblib.load('./Normalisation_CreditScoring')"
   ]
  },
  {
   "cell_type": "code",
   "execution_count": 12,
   "metadata": {
    "colab": {
     "base_uri": "https://localhost:8080/"
    },
    "executionInfo": {
     "elapsed": 10,
     "status": "ok",
     "timestamp": 1638208773185,
     "user": {
      "displayName": "SKILLCATE",
      "photoUrl": "https://lh3.googleusercontent.com/a-/AOh14GhT5e7MnDmh2dcfNhKDOV8oRoeRJVinedzmD2Su=s64",
      "userId": "11062674699417926870"
     },
     "user_tz": -330
    },
    "id": "K4tOqu1WoPNv",
    "outputId": "7dfbe0bf-2252-4e81-ad4a-1f1aa9ee0833"
   },
   "outputs": [
    {
     "name": "stderr",
     "output_type": "stream",
     "text": [
      "C:\\Users\\athar\\anaconda3\\lib\\site-packages\\sklearn\\base.py:443: UserWarning: X has feature names, but StandardScaler was fitted without feature names\n",
      "  warnings.warn(\n"
     ]
    }
   ],
   "source": [
    "X_fresh = sc.transform(X_fresh)"
   ]
  },
  {
   "cell_type": "markdown",
   "metadata": {
    "id": "07xCSknToWAs"
   },
   "source": [
    "### Risk Model building"
   ]
  },
  {
   "cell_type": "code",
   "execution_count": 13,
   "metadata": {
    "executionInfo": {
     "elapsed": 9,
     "status": "ok",
     "timestamp": 1638208773186,
     "user": {
      "displayName": "SKILLCATE",
      "photoUrl": "https://lh3.googleusercontent.com/a-/AOh14GhT5e7MnDmh2dcfNhKDOV8oRoeRJVinedzmD2Su=s64",
      "userId": "11062674699417926870"
     },
     "user_tz": -330
    },
    "id": "AzhmlRiuw3ne"
   },
   "outputs": [],
   "source": [
    "# Loading Classifier file - exported from the model code file as f1_Classifier \n",
    "\n",
    "classifier = joblib.load('./Classifier_CreditScoring')"
   ]
  },
  {
   "cell_type": "code",
   "execution_count": 14,
   "metadata": {
    "executionInfo": {
     "elapsed": 9,
     "status": "ok",
     "timestamp": 1638208773186,
     "user": {
      "displayName": "SKILLCATE",
      "photoUrl": "https://lh3.googleusercontent.com/a-/AOh14GhT5e7MnDmh2dcfNhKDOV8oRoeRJVinedzmD2Su=s64",
      "userId": "11062674699417926870"
     },
     "user_tz": -330
    },
    "id": "TGTPbyy_oR8t"
   },
   "outputs": [],
   "source": [
    "# Generating fresh Target values for new applications\n",
    "\n",
    "y_fresh = classifier.predict(X_fresh)"
   ]
  },
  {
   "cell_type": "markdown",
   "metadata": {
    "id": "OZpWU4xApREd"
   },
   "source": [
    "### Writing output file"
   ]
  },
  {
   "cell_type": "code",
   "execution_count": 15,
   "metadata": {
    "colab": {
     "base_uri": "https://localhost:8080/"
    },
    "executionInfo": {
     "elapsed": 9,
     "status": "ok",
     "timestamp": 1638208773186,
     "user": {
      "displayName": "SKILLCATE",
      "photoUrl": "https://lh3.googleusercontent.com/a-/AOh14GhT5e7MnDmh2dcfNhKDOV8oRoeRJVinedzmD2Su=s64",
      "userId": "11062674699417926870"
     },
     "user_tz": -330
    },
    "id": "21MQHzgDx676",
    "outputId": "6419158b-af78-4267-bd81-51c435d783e0"
   },
   "outputs": [
    {
     "data": {
      "text/plain": [
       "array([[0.51015419, 0.48984581],\n",
       "       [0.94910695, 0.05089305],\n",
       "       [0.88668898, 0.11331102],\n",
       "       [0.92293403, 0.07706597],\n",
       "       [0.48571306, 0.51428694],\n",
       "       [0.85712913, 0.14287087],\n",
       "       [0.23253471, 0.76746529],\n",
       "       [0.29184912, 0.70815088],\n",
       "       [0.88234923, 0.11765077],\n",
       "       [0.95439841, 0.04560159],\n",
       "       [0.97779352, 0.02220648],\n",
       "       [0.65284143, 0.34715857],\n",
       "       [0.72187826, 0.27812174],\n",
       "       [0.9312279 , 0.0687721 ],\n",
       "       [0.96058943, 0.03941057],\n",
       "       [0.24831948, 0.75168052],\n",
       "       [0.91149926, 0.08850074],\n",
       "       [0.34624443, 0.65375557],\n",
       "       [0.94022434, 0.05977566],\n",
       "       [0.97927613, 0.02072387],\n",
       "       [0.98754303, 0.01245697],\n",
       "       [0.87094012, 0.12905988],\n",
       "       [0.96699666, 0.03300334],\n",
       "       [0.90804263, 0.09195737],\n",
       "       [0.95286033, 0.04713967],\n",
       "       [0.63645378, 0.36354622],\n",
       "       [0.52051324, 0.47948676],\n",
       "       [0.92464861, 0.07535139],\n",
       "       [0.90651848, 0.09348152],\n",
       "       [0.90163267, 0.09836733]])"
      ]
     },
     "execution_count": 15,
     "metadata": {},
     "output_type": "execute_result"
    }
   ],
   "source": [
    "predictions = classifier.predict_proba(X_fresh)\n",
    "predictions"
   ]
  },
  {
   "cell_type": "code",
   "execution_count": 16,
   "metadata": {
    "colab": {
     "base_uri": "https://localhost:8080/",
     "height": 400
    },
    "executionInfo": {
     "elapsed": 7,
     "status": "ok",
     "timestamp": 1638208773186,
     "user": {
      "displayName": "SKILLCATE",
      "photoUrl": "https://lh3.googleusercontent.com/a-/AOh14GhT5e7MnDmh2dcfNhKDOV8oRoeRJVinedzmD2Su=s64",
      "userId": "11062674699417926870"
     },
     "user_tz": -330
    },
    "id": "QZZCWhsipijJ",
    "outputId": "2757300a-dba0-4e3e-e127-f5d6e41d01f4"
   },
   "outputs": [
    {
     "data": {
      "text/html": [
       "<div>\n",
       "<style scoped>\n",
       "    .dataframe tbody tr th:only-of-type {\n",
       "        vertical-align: middle;\n",
       "    }\n",
       "\n",
       "    .dataframe tbody tr th {\n",
       "        vertical-align: top;\n",
       "    }\n",
       "\n",
       "    .dataframe thead th {\n",
       "        text-align: right;\n",
       "    }\n",
       "</style>\n",
       "<table border=\"1\" class=\"dataframe\">\n",
       "  <thead>\n",
       "    <tr style=\"text-align: right;\">\n",
       "      <th></th>\n",
       "      <th>Predicted Outcome</th>\n",
       "      <th>prob_0</th>\n",
       "      <th>prob_1</th>\n",
       "      <th>DerogCnt</th>\n",
       "      <th>CollectCnt</th>\n",
       "      <th>BanruptcyInd</th>\n",
       "      <th>InqCnt06</th>\n",
       "      <th>InqTimeLast</th>\n",
       "      <th>InqFinanceCnt24</th>\n",
       "      <th>TLTimeFirst</th>\n",
       "      <th>...</th>\n",
       "      <th>TL50UtilCnt</th>\n",
       "      <th>TLBalHCPct</th>\n",
       "      <th>TLSatPct</th>\n",
       "      <th>TLDel3060Cnt24</th>\n",
       "      <th>TLDel90Cnt24</th>\n",
       "      <th>TLDel60CntAll</th>\n",
       "      <th>TLOpenPct</th>\n",
       "      <th>TLBadDerogCnt</th>\n",
       "      <th>TLDel60Cnt24</th>\n",
       "      <th>TLOpen24Pct</th>\n",
       "    </tr>\n",
       "  </thead>\n",
       "  <tbody>\n",
       "    <tr>\n",
       "      <th>0</th>\n",
       "      <td>0.0</td>\n",
       "      <td>0.510154</td>\n",
       "      <td>0.489846</td>\n",
       "      <td>0.590166</td>\n",
       "      <td>0.562700</td>\n",
       "      <td>-0.425561</td>\n",
       "      <td>-0.878069</td>\n",
       "      <td>1.713059</td>\n",
       "      <td>-0.786738</td>\n",
       "      <td>-0.861443</td>\n",
       "      <td>...</td>\n",
       "      <td>-0.666667</td>\n",
       "      <td>0.811837</td>\n",
       "      <td>-1.473889</td>\n",
       "      <td>1.092200</td>\n",
       "      <td>0.740200</td>\n",
       "      <td>0.411803</td>\n",
       "      <td>-1.178579</td>\n",
       "      <td>0.689685</td>\n",
       "      <td>1.062752</td>\n",
       "      <td>0.875076</td>\n",
       "    </tr>\n",
       "    <tr>\n",
       "      <th>1</th>\n",
       "      <td>0.0</td>\n",
       "      <td>0.949107</td>\n",
       "      <td>0.050893</td>\n",
       "      <td>0.970000</td>\n",
       "      <td>0.562700</td>\n",
       "      <td>2.349838</td>\n",
       "      <td>-0.033095</td>\n",
       "      <td>-0.037628</td>\n",
       "      <td>-0.343037</td>\n",
       "      <td>0.546435</td>\n",
       "      <td>...</td>\n",
       "      <td>-0.666667</td>\n",
       "      <td>0.110051</td>\n",
       "      <td>-0.773378</td>\n",
       "      <td>-0.624421</td>\n",
       "      <td>0.740200</td>\n",
       "      <td>0.698691</td>\n",
       "      <td>-1.418722</td>\n",
       "      <td>0.689685</td>\n",
       "      <td>0.510793</td>\n",
       "      <td>-0.475915</td>\n",
       "    </tr>\n",
       "    <tr>\n",
       "      <th>2</th>\n",
       "      <td>0.0</td>\n",
       "      <td>0.886689</td>\n",
       "      <td>0.113311</td>\n",
       "      <td>-0.549334</td>\n",
       "      <td>-0.432495</td>\n",
       "      <td>-0.425561</td>\n",
       "      <td>2.220171</td>\n",
       "      <td>-0.475300</td>\n",
       "      <td>2.097322</td>\n",
       "      <td>-0.195119</td>\n",
       "      <td>...</td>\n",
       "      <td>0.306783</td>\n",
       "      <td>0.709064</td>\n",
       "      <td>0.246273</td>\n",
       "      <td>0.233890</td>\n",
       "      <td>-0.507328</td>\n",
       "      <td>-0.735747</td>\n",
       "      <td>-1.360607</td>\n",
       "      <td>-0.613656</td>\n",
       "      <td>-0.593127</td>\n",
       "      <td>2.611890</td>\n",
       "    </tr>\n",
       "    <tr>\n",
       "      <th>3</th>\n",
       "      <td>0.0</td>\n",
       "      <td>0.922934</td>\n",
       "      <td>0.077066</td>\n",
       "      <td>-0.169501</td>\n",
       "      <td>0.065102</td>\n",
       "      <td>-0.425561</td>\n",
       "      <td>-0.314753</td>\n",
       "      <td>-0.475300</td>\n",
       "      <td>0.100665</td>\n",
       "      <td>0.385228</td>\n",
       "      <td>...</td>\n",
       "      <td>-0.017701</td>\n",
       "      <td>-2.430781</td>\n",
       "      <td>-1.123633</td>\n",
       "      <td>-0.624421</td>\n",
       "      <td>-0.507328</td>\n",
       "      <td>0.124916</td>\n",
       "      <td>-1.778937</td>\n",
       "      <td>-0.179209</td>\n",
       "      <td>-0.593127</td>\n",
       "      <td>0.875076</td>\n",
       "    </tr>\n",
       "    <tr>\n",
       "      <th>4</th>\n",
       "      <td>1.0</td>\n",
       "      <td>0.485713</td>\n",
       "      <td>0.514287</td>\n",
       "      <td>-0.169501</td>\n",
       "      <td>0.065102</td>\n",
       "      <td>-0.425561</td>\n",
       "      <td>0.248563</td>\n",
       "      <td>-0.475300</td>\n",
       "      <td>0.322516</td>\n",
       "      <td>-0.195119</td>\n",
       "      <td>...</td>\n",
       "      <td>-0.666667</td>\n",
       "      <td>0.904483</td>\n",
       "      <td>-1.123633</td>\n",
       "      <td>1.092200</td>\n",
       "      <td>0.116436</td>\n",
       "      <td>-0.161972</td>\n",
       "      <td>1.222852</td>\n",
       "      <td>-0.179209</td>\n",
       "      <td>0.510793</td>\n",
       "      <td>-0.475915</td>\n",
       "    </tr>\n",
       "    <tr>\n",
       "      <th>5</th>\n",
       "      <td>0.0</td>\n",
       "      <td>0.857129</td>\n",
       "      <td>0.142871</td>\n",
       "      <td>-0.169501</td>\n",
       "      <td>0.065102</td>\n",
       "      <td>2.349838</td>\n",
       "      <td>-0.314753</td>\n",
       "      <td>-0.256464</td>\n",
       "      <td>-0.786738</td>\n",
       "      <td>-0.496040</td>\n",
       "      <td>...</td>\n",
       "      <td>-0.017701</td>\n",
       "      <td>1.424352</td>\n",
       "      <td>-0.072447</td>\n",
       "      <td>-0.624421</td>\n",
       "      <td>-0.507328</td>\n",
       "      <td>-0.161972</td>\n",
       "      <td>0.622495</td>\n",
       "      <td>-0.613656</td>\n",
       "      <td>-0.593127</td>\n",
       "      <td>0.875076</td>\n",
       "    </tr>\n",
       "    <tr>\n",
       "      <th>6</th>\n",
       "      <td>1.0</td>\n",
       "      <td>0.232535</td>\n",
       "      <td>0.767465</td>\n",
       "      <td>-0.549334</td>\n",
       "      <td>-0.432495</td>\n",
       "      <td>-0.425561</td>\n",
       "      <td>-0.596411</td>\n",
       "      <td>0.618879</td>\n",
       "      <td>0.100665</td>\n",
       "      <td>-0.732477</td>\n",
       "      <td>...</td>\n",
       "      <td>2.253682</td>\n",
       "      <td>1.009883</td>\n",
       "      <td>-0.346596</td>\n",
       "      <td>1.950511</td>\n",
       "      <td>1.987728</td>\n",
       "      <td>0.411803</td>\n",
       "      <td>0.544208</td>\n",
       "      <td>1.124132</td>\n",
       "      <td>1.614712</td>\n",
       "      <td>-1.151310</td>\n",
       "    </tr>\n",
       "    <tr>\n",
       "      <th>7</th>\n",
       "      <td>1.0</td>\n",
       "      <td>0.291849</td>\n",
       "      <td>0.708151</td>\n",
       "      <td>5.148169</td>\n",
       "      <td>4.045884</td>\n",
       "      <td>-0.425561</td>\n",
       "      <td>-0.033095</td>\n",
       "      <td>-0.475300</td>\n",
       "      <td>-0.121186</td>\n",
       "      <td>-1.678228</td>\n",
       "      <td>...</td>\n",
       "      <td>-0.991150</td>\n",
       "      <td>0.569907</td>\n",
       "      <td>-2.174820</td>\n",
       "      <td>-0.624421</td>\n",
       "      <td>-0.507328</td>\n",
       "      <td>-0.735747</td>\n",
       "      <td>2.423568</td>\n",
       "      <td>4.599707</td>\n",
       "      <td>-0.593127</td>\n",
       "      <td>0.875076</td>\n",
       "    </tr>\n",
       "    <tr>\n",
       "      <th>8</th>\n",
       "      <td>0.0</td>\n",
       "      <td>0.882349</td>\n",
       "      <td>0.117651</td>\n",
       "      <td>-0.549334</td>\n",
       "      <td>-0.432495</td>\n",
       "      <td>-0.425561</td>\n",
       "      <td>-0.878069</td>\n",
       "      <td>-0.118679</td>\n",
       "      <td>-0.786738</td>\n",
       "      <td>-0.646500</td>\n",
       "      <td>...</td>\n",
       "      <td>-0.991150</td>\n",
       "      <td>0.369236</td>\n",
       "      <td>-0.372666</td>\n",
       "      <td>-0.624421</td>\n",
       "      <td>0.116436</td>\n",
       "      <td>-0.161972</td>\n",
       "      <td>-0.320788</td>\n",
       "      <td>-0.179209</td>\n",
       "      <td>-0.041167</td>\n",
       "      <td>-1.151310</td>\n",
       "    </tr>\n",
       "    <tr>\n",
       "      <th>9</th>\n",
       "      <td>0.0</td>\n",
       "      <td>0.954398</td>\n",
       "      <td>0.045602</td>\n",
       "      <td>-0.549334</td>\n",
       "      <td>-0.432495</td>\n",
       "      <td>-0.425561</td>\n",
       "      <td>-0.596411</td>\n",
       "      <td>0.400043</td>\n",
       "      <td>-0.564888</td>\n",
       "      <td>1.975808</td>\n",
       "      <td>...</td>\n",
       "      <td>0.306783</td>\n",
       "      <td>-1.098476</td>\n",
       "      <td>0.574243</td>\n",
       "      <td>-0.624421</td>\n",
       "      <td>0.116436</td>\n",
       "      <td>-0.448860</td>\n",
       "      <td>1.130638</td>\n",
       "      <td>-0.179209</td>\n",
       "      <td>-0.041167</td>\n",
       "      <td>-0.084823</td>\n",
       "    </tr>\n",
       "  </tbody>\n",
       "</table>\n",
       "<p>10 rows × 31 columns</p>\n",
       "</div>"
      ],
      "text/plain": [
       "   Predicted Outcome    prob_0    prob_1  DerogCnt  CollectCnt  BanruptcyInd  \\\n",
       "0                0.0  0.510154  0.489846  0.590166    0.562700     -0.425561   \n",
       "1                0.0  0.949107  0.050893  0.970000    0.562700      2.349838   \n",
       "2                0.0  0.886689  0.113311 -0.549334   -0.432495     -0.425561   \n",
       "3                0.0  0.922934  0.077066 -0.169501    0.065102     -0.425561   \n",
       "4                1.0  0.485713  0.514287 -0.169501    0.065102     -0.425561   \n",
       "5                0.0  0.857129  0.142871 -0.169501    0.065102      2.349838   \n",
       "6                1.0  0.232535  0.767465 -0.549334   -0.432495     -0.425561   \n",
       "7                1.0  0.291849  0.708151  5.148169    4.045884     -0.425561   \n",
       "8                0.0  0.882349  0.117651 -0.549334   -0.432495     -0.425561   \n",
       "9                0.0  0.954398  0.045602 -0.549334   -0.432495     -0.425561   \n",
       "\n",
       "   InqCnt06  InqTimeLast  InqFinanceCnt24  TLTimeFirst  ...  TL50UtilCnt  \\\n",
       "0 -0.878069     1.713059        -0.786738    -0.861443  ...    -0.666667   \n",
       "1 -0.033095    -0.037628        -0.343037     0.546435  ...    -0.666667   \n",
       "2  2.220171    -0.475300         2.097322    -0.195119  ...     0.306783   \n",
       "3 -0.314753    -0.475300         0.100665     0.385228  ...    -0.017701   \n",
       "4  0.248563    -0.475300         0.322516    -0.195119  ...    -0.666667   \n",
       "5 -0.314753    -0.256464        -0.786738    -0.496040  ...    -0.017701   \n",
       "6 -0.596411     0.618879         0.100665    -0.732477  ...     2.253682   \n",
       "7 -0.033095    -0.475300        -0.121186    -1.678228  ...    -0.991150   \n",
       "8 -0.878069    -0.118679        -0.786738    -0.646500  ...    -0.991150   \n",
       "9 -0.596411     0.400043        -0.564888     1.975808  ...     0.306783   \n",
       "\n",
       "   TLBalHCPct  TLSatPct  TLDel3060Cnt24  TLDel90Cnt24  TLDel60CntAll  \\\n",
       "0    0.811837 -1.473889        1.092200      0.740200       0.411803   \n",
       "1    0.110051 -0.773378       -0.624421      0.740200       0.698691   \n",
       "2    0.709064  0.246273        0.233890     -0.507328      -0.735747   \n",
       "3   -2.430781 -1.123633       -0.624421     -0.507328       0.124916   \n",
       "4    0.904483 -1.123633        1.092200      0.116436      -0.161972   \n",
       "5    1.424352 -0.072447       -0.624421     -0.507328      -0.161972   \n",
       "6    1.009883 -0.346596        1.950511      1.987728       0.411803   \n",
       "7    0.569907 -2.174820       -0.624421     -0.507328      -0.735747   \n",
       "8    0.369236 -0.372666       -0.624421      0.116436      -0.161972   \n",
       "9   -1.098476  0.574243       -0.624421      0.116436      -0.448860   \n",
       "\n",
       "   TLOpenPct  TLBadDerogCnt  TLDel60Cnt24  TLOpen24Pct  \n",
       "0  -1.178579       0.689685      1.062752     0.875076  \n",
       "1  -1.418722       0.689685      0.510793    -0.475915  \n",
       "2  -1.360607      -0.613656     -0.593127     2.611890  \n",
       "3  -1.778937      -0.179209     -0.593127     0.875076  \n",
       "4   1.222852      -0.179209      0.510793    -0.475915  \n",
       "5   0.622495      -0.613656     -0.593127     0.875076  \n",
       "6   0.544208       1.124132      1.614712    -1.151310  \n",
       "7   2.423568       4.599707     -0.593127     0.875076  \n",
       "8  -0.320788      -0.179209     -0.041167    -1.151310  \n",
       "9   1.130638      -0.179209     -0.041167    -0.084823  \n",
       "\n",
       "[10 rows x 31 columns]"
      ]
     },
     "execution_count": 16,
     "metadata": {},
     "output_type": "execute_result"
    }
   ],
   "source": [
    "# writing model output file\n",
    "\n",
    "df_prediction_prob = pd.DataFrame(predictions, columns = ['prob_0', 'prob_1'])\n",
    "df_test_dataset = pd.DataFrame(X_fresh, columns = dataset.columns)\n",
    "df_prediction_target = pd.DataFrame(y_fresh,columns= ['Predicted Outcome'])\n",
    "\n",
    "dfx=pd.concat([df_prediction_target, df_prediction_prob, df_test_dataset], axis=1)\n",
    "\n",
    "dfx.to_csv(\"NewApplications_CreditScore_Predictions.csv\", sep=',', encoding='UTF-8')\n",
    "\n",
    "dfx.head(10)"
   ]
  },
  {
   "cell_type": "markdown",
   "metadata": {
    "id": "MGdYvDbIDVny"
   },
   "source": [
    "### Coding ends here!"
   ]
  }
 ],
 "metadata": {
  "colab": {
   "authorship_tag": "ABX9TyMb+gcsAkHMniJYlPat7LOY",
   "collapsed_sections": [],
   "mount_file_id": "1pd39RJk0kcIKm3WrejNtXoDiW9IWjOfD",
   "name": "f3_NewApplications_CreditScore_Predictions.ipynb",
   "provenance": [
    {
     "file_id": "1pd39RJk0kcIKm3WrejNtXoDiW9IWjOfD",
     "timestamp": 1612685590437
    }
   ],
   "toc_visible": true
  },
  "kernelspec": {
   "display_name": "Python 3 (ipykernel)",
   "language": "python",
   "name": "python3"
  },
  "language_info": {
   "codemirror_mode": {
    "name": "ipython",
    "version": 3
   },
   "file_extension": ".py",
   "mimetype": "text/x-python",
   "name": "python",
   "nbconvert_exporter": "python",
   "pygments_lexer": "ipython3",
   "version": "3.9.12"
  }
 },
 "nbformat": 4,
 "nbformat_minor": 1
}
